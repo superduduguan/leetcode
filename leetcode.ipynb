{
  "nbformat": 4,
  "nbformat_minor": 0,
  "metadata": {
    "colab": {
      "name": "leetcode.ipynb",
      "provenance": [],
      "authorship_tag": "ABX9TyP2sUGI2xLfERMQno+011B0",
      "include_colab_link": true
    },
    "kernelspec": {
      "name": "python3",
      "display_name": "Python 3"
    },
    "accelerator": "GPU"
  },
  "cells": [
    {
      "cell_type": "markdown",
      "metadata": {
        "id": "view-in-github",
        "colab_type": "text"
      },
      "source": [
        "<a href=\"https://colab.research.google.com/github/superduduguan/leetcode/blob/master/leetcode.ipynb\" target=\"_parent\"><img src=\"https://colab.research.google.com/assets/colab-badge.svg\" alt=\"Open In Colab\"/></a>"
      ]
    },
    {
      "cell_type": "markdown",
      "metadata": {
        "id": "YsIBUpHxb4Td",
        "colab_type": "text"
      },
      "source": [
        "#EASY"
      ]
    },
    {
      "cell_type": "markdown",
      "metadata": {
        "id": "P14Itzmhb-rC",
        "colab_type": "text"
      },
      "source": [
        "## 20.Valid Parentheses(Stack)\n",
        "Given a string containing just the characters '(', ')', '{', '}', '[' and ']', determine if the input string is valid."
      ]
    },
    {
      "cell_type": "code",
      "metadata": {
        "id": "I39az72vWdOy",
        "colab_type": "code",
        "colab": {}
      },
      "source": [
        "class Solution:\n",
        "  def isValid(self, s: str) -> bool:\n",
        "      stack = []\n",
        "      dict = {'(':')', '[':']', '{':'}'}\n",
        "      for n in s:\n",
        "          if n in dict:\n",
        "              stack.append(n)\n",
        "          elif stack:\n",
        "              pop = stack.pop()\n",
        "              if n != dict[pop]:\n",
        "                  return False\n",
        "          else:\n",
        "              return False\n",
        "      return stack == []"
      ],
      "execution_count": 0,
      "outputs": []
    },
    {
      "cell_type": "markdown",
      "metadata": {
        "id": "zqzFFbaMfWMj",
        "colab_type": "text"
      },
      "source": [
        "##26.remove-duplicates-from-sorted-array\n",
        "Given a sorted array nums, remove the duplicates in-place such that each element appear only once and return the new length."
      ]
    },
    {
      "cell_type": "code",
      "metadata": {
        "id": "SrgL_reraLb0",
        "colab_type": "code",
        "colab": {}
      },
      "source": [
        "class Solution:\n",
        "    def removeDuplicates(self, nums):\n",
        "      for index in range(1, len(nums)):\n",
        "        if nums[index] == nums[index-1]:\n",
        "          for i in range(index, len(nums)-1):\n",
        "            nums[i] = nums[i+1]\n",
        "            \n",
        "          \n",
        "\n",
        "      return 0\n",
        "        "
      ],
      "execution_count": 0,
      "outputs": []
    }
  ]
}