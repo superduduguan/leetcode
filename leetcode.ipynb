{
  "nbformat": 4,
  "nbformat_minor": 0,
  "metadata": {
    "colab": {
      "name": "leetcode.ipynb",
      "provenance": [],
      "collapsed_sections": [],
      "toc_visible": true,
      "authorship_tag": "ABX9TyOe6ZRIdiIfvnT4wzd2OTnK",
      "include_colab_link": true
    },
    "kernelspec": {
      "name": "python3",
      "display_name": "Python 3"
    },
    "accelerator": "GPU"
  },
  "cells": [
    {
      "cell_type": "markdown",
      "metadata": {
        "id": "view-in-github",
        "colab_type": "text"
      },
      "source": [
        "<a href=\"https://colab.research.google.com/github/superduduguan/leetcode/blob/master/leetcode.ipynb\" target=\"_parent\"><img src=\"https://colab.research.google.com/assets/colab-badge.svg\" alt=\"Open In Colab\"/></a>"
      ]
    },
    {
      "cell_type": "markdown",
      "metadata": {
        "id": "YsIBUpHxb4Td",
        "colab_type": "text"
      },
      "source": [
        "#EASY"
      ]
    },
    {
      "cell_type": "markdown",
      "metadata": {
        "id": "P14Itzmhb-rC",
        "colab_type": "text"
      },
      "source": [
        "## 20.Valid Parentheses(Stack)\n",
        "Given a string containing just the characters '(', ')', '{', '}', '[' and ']', determine if the input string is valid."
      ]
    },
    {
      "cell_type": "markdown",
      "metadata": {
        "id": "2LarohTaUOuY",
        "colab_type": "text"
      },
      "source": [
        "###栈"
      ]
    },
    {
      "cell_type": "code",
      "metadata": {
        "id": "I39az72vWdOy",
        "colab_type": "code",
        "colab": {}
      },
      "source": [
        "class Solution:\n",
        "  def isValid(self, s: str) -> bool:\n",
        "    stack = []\n",
        "    dict = {'(':')', '[':']', '{':'}'}\n",
        "    for n in s: #重要！这句话一旦写下就确定了n的取值，后面不再变了！！！\n",
        "      if n in dict:\n",
        "        stack.append(n)\n",
        "      elif stack:\n",
        "        pop = stack.pop()\n",
        "        if n != dict[pop]:\n",
        "          return False\n",
        "      else:\n",
        "        return False\n",
        "    return stack == []"
      ],
      "execution_count": 0,
      "outputs": []
    },
    {
      "cell_type": "markdown",
      "metadata": {
        "id": "zqzFFbaMfWMj",
        "colab_type": "text"
      },
      "source": [
        "##26.remove-duplicates-from-sorted-array\n",
        "Given a sorted array nums, remove the duplicates in-place such that each element appear only once and return the new length."
      ]
    },
    {
      "cell_type": "markdown",
      "metadata": {
        "id": "Qq4wel_8SJ7Q",
        "colab_type": "text"
      },
      "source": [
        "###双指针 \n",
        "快指针遇到不重复的就把新元素放到慢指针处\n",
        "由于慢指针没有完全遍历，所以相当于只循环了一轮"
      ]
    },
    {
      "cell_type": "code",
      "metadata": {
        "id": "SrgL_reraLb0",
        "colab_type": "code",
        "colab": {}
      },
      "source": [
        "class Solution: #双指针原地从头覆盖~O(n)\n",
        "  def removeDuplicates(self, nums):\n",
        "    i = 1 #不管是什么情况，第一个数肯定是保留的\n",
        "    count = 1\n",
        "    if not nums:\n",
        "      return 0\n",
        "    for index in range(1, len(nums)):# 当range前后界相等时，不进入循环！通过这个特性避免len=1无法比较的情况！\n",
        "      if nums[index] != nums[index - 1]:\n",
        "        nums[i] = nums[index]\n",
        "        i += 1\n",
        "        count += 1\n",
        "    return count"
      ],
      "execution_count": 0,
      "outputs": []
    },
    {
      "cell_type": "markdown",
      "metadata": {
        "id": "AG0cFge1SV5L",
        "colab_type": "text"
      },
      "source": [
        "###pop \n",
        "遇到重复的就弹出"
      ]
    },
    {
      "cell_type": "code",
      "metadata": {
        "id": "Gjfyw3Bf3Iw5",
        "colab_type": "code",
        "colab": {}
      },
      "source": [
        "class Solution: #pop~O(n^2)\n",
        "  def removeDuplicates(self, nums):\n",
        "    count = 1 #对待初始状态要认真\n",
        "    index = 0\n",
        "    if len(nums) == 0: #面对比较（牵扯两个元素），要先考虑空集情况\n",
        "      return 0\n",
        "    while True:\n",
        "      if index == len(nums)-1: #首先应考虑到 len = 1的情况，在循环的开始阶段使用弹出控制会有奇效\n",
        "        return count\n",
        "      if nums[index] == nums[index + 1]:\n",
        "        nums.pop(index) #注意pop之后要不要改变指针位置\n",
        "      else:\n",
        "        count += 1\n",
        "        index += 1"
      ],
      "execution_count": 0,
      "outputs": []
    },
    {
      "cell_type": "markdown",
      "metadata": {
        "id": "a5vphh1FGlQL",
        "colab_type": "text"
      },
      "source": [
        "##53.Maximum Subarray\n",
        "Given an integer array nums, find the contiguous subarray (containing at least one number) which has the largest sum and return its sum."
      ]
    },
    {
      "cell_type": "markdown",
      "metadata": {
        "id": "buQwpqKyGABu",
        "colab_type": "text"
      },
      "source": [
        "###暴力枚举\n",
        "包含大量重复运算，比如在计算sum（1，5）和sum（1，6）时，相加的指针重复遍历了两次（1，5），共移动9个位置"
      ]
    },
    {
      "cell_type": "code",
      "metadata": {
        "id": "CfFEs05lGBTn",
        "colab_type": "code",
        "colab": {}
      },
      "source": [
        "class Solution: #~O(n^3)\n",
        "    def maxSubArray(self, nums):\n",
        "        SUM = []\n",
        "        for i in range(len(nums)):\n",
        "            for j in range(i+1, len(nums)):\n",
        "                sum = 0\n",
        "                for k in range(i, j+1):\n",
        "                    sum += nums[k]\n",
        "                print(i,j,sum)\n",
        "                SUM.append(sum)\n",
        "        for i in range(len(nums)):\n",
        "            SUM.append(nums[i])\n",
        "        print(SUM)\n",
        "        return max(SUM)\n"
      ],
      "execution_count": 0,
      "outputs": []
    },
    {
      "cell_type": "markdown",
      "metadata": {
        "id": "LRE2jfwFSaPc",
        "colab_type": "text"
      },
      "source": [
        "###优化暴力枚举\n",
        "&emsp;&emsp;求连续和的时候，边加边保存（比较）可以用第二轮循环就完成  \n",
        "&emsp;&emsp;与暴力枚举法的区别在于，对于每个窗，不需要指针不停返回初始位置，减少了大量重复运算。比如在计算sum（1，5）和sum（1，6）时，相加的指针只需移动一次  \n",
        "&emsp;&emsp;另外，每得到一个值就进行两两比较，节省空间"
      ]
    },
    {
      "cell_type": "code",
      "metadata": {
        "id": "5wsOs5nCLacz",
        "colab_type": "code",
        "colab": {}
      },
      "source": [
        "class Solution: #~O（n^2）\n",
        "    def maxSubArray(self, nums: List[int]) -> int:\n",
        "        n = len(nums)#好习惯\n",
        "        maxSum = nums[0]#好习惯\n",
        "        sum = 0\n",
        "        \n",
        "        for i in range(n):\n",
        "            sum = 0\n",
        "            for j in range(i, n):\n",
        "                sum += nums[j]\n",
        "                maxSum = max(maxSum, sum)#！随时比较\n",
        "        \n",
        "        return maxSum "
      ],
      "execution_count": 0,
      "outputs": []
    },
    {
      "cell_type": "markdown",
      "metadata": {
        "id": "l0vTjdoRSvRi",
        "colab_type": "text"
      },
      "source": [
        "###前序和\n",
        "利用sum(a,b)=presum(b)-presum(a-1)  \n",
        "进一步优化时，要求maxsum，上式直接减去0到a-1间最小的presum即可"
      ]
    },
    {
      "cell_type": "code",
      "metadata": {
        "id": "wQoj7HJRUazp",
        "colab_type": "code",
        "colab": {}
      },
      "source": [
        "class Solution:\n",
        "    def maxSubArray(self, nums: List[int]) -> int:\n",
        "        n = len(nums)\n",
        "        maxSum = nums[0]\n",
        "        leastSum = 0 #到目前为止所有presum（a-1）中的最小值）\n",
        "        presum = 0 #前项和\n",
        "\n",
        "        for i in range(n):\n",
        "            presum += nums[i] #记录每个b位置的前项和\n",
        "            maxSum = max(maxSum, presum - leastSum) #一直取最大的maxSum\n",
        "            leastSum = min(leastSum, presum) #这个leastSum是上一轮的（a-1）的，必须最后才更新 #一直取最小\n",
        "            \n",
        "        return maxSum"
      ],
      "execution_count": 0,
      "outputs": []
    },
    {
      "cell_type": "markdown",
      "metadata": {
        "id": "NoX-i9b4rTVi",
        "colab_type": "text"
      },
      "source": [
        "###！动态规划Kadane's Algorithm\n",
        "&emsp;&emsp;index从0遍历到n-1的过程中，每个元素面临两个选择：要么自己重新开始一个新的序列（此时sum等于自己），要么继续拓展前面最大的序列（此时sum为i-1时刻的sum加自己）。  \n",
        "&emsp;&emsp;这样两个选择比大小就可知：**从任意元素开始**，**在这个i元素处结束**的话最大的sum是多少  \n",
        "  \n",
        "  \n",
        "设定状态表示量dp[i]：到当前位置 i 为止的最大子序列和  \n",
        "状态转移方程为： dp[i] = max(dp[i - 1] + nums[i], nums[i])  \n",
        "初始化：dp[0] = nums[0]\n"
      ]
    },
    {
      "cell_type": "code",
      "metadata": {
        "id": "ESaqu4FirTCG",
        "colab_type": "code",
        "colab": {}
      },
      "source": [
        "class Solution:\n",
        "    def maxSubArray(self, nums: List[int]) -> int:\n",
        "        n = len(nums)\n",
        "        max_global = nums[0]\n",
        "        max_end_here = 0\n",
        "        for i in range(n):\n",
        "            max_end_here = max(nums[i], nums[i] + max_end_here) #重要！这种递归，括号里的max时上一轮的！\n",
        "            max_global = max(max_end_here, max_global) #重要！这种表示，直接理解为求max_end_here的最大值\n",
        "        return max_global"
      ],
      "execution_count": 0,
      "outputs": []
    },
    {
      "cell_type": "markdown",
      "metadata": {
        "id": "qEVuWzsfwZOj",
        "colab_type": "text"
      },
      "source": [
        "&emsp;&emsp;另一种理解：遍历到的每个元素：如果有黑历史（之前sum为负），则重新开始；如果有历史功绩（之前sum为正），则继续延续    \n",
        "&emsp;&emsp;与前一种理解相比：前者用nums[i]和nums[i] + max_end_here相比；后者用max_end_here和0相比，只有当大于时才进行nums[i] + max_end_here，赋值运算更少"
      ]
    },
    {
      "cell_type": "code",
      "metadata": {
        "id": "9aihTpQLw1QF",
        "colab_type": "code",
        "colab": {}
      },
      "source": [
        "class Solution:\n",
        "    def maxSubArray(self, nums: List[int]) -> int:\n",
        "        n = len(nums)\n",
        "        max_global = nums[0]\n",
        "        max_end_here = 0\n",
        "        for i in range(n):\n",
        "            if max_end_here > 0:\n",
        "                max_end_here += nums[i]\n",
        "            else:\n",
        "                max_end_here = nums[i]\n",
        "            max_global = max(max_global, max_end_here)\n",
        "        return max_global\n"
      ],
      "execution_count": 0,
      "outputs": []
    },
    {
      "cell_type": "markdown",
      "metadata": {
        "id": "HPOSrn-v0wB3",
        "colab_type": "text"
      },
      "source": [
        "&emsp;&emsp;进一步优化：对于这种只需要遍历一次的队列，可充分利用已遍历过的元素,用nums[i]表示当前元素，nums[i-1]代表之前的maxsum。这样在maxsum<0需要重开新序列时，无需赋值，nums[i]就是新的nums[i-1]"
      ]
    },
    {
      "cell_type": "code",
      "metadata": {
        "id": "xaYMEfIp0-2B",
        "colab_type": "code",
        "colab": {}
      },
      "source": [
        "i-1class Solution:\n",
        "    def maxSubArray(self, nums: List[int]) -> int:\n",
        "        n = len(nums)\n",
        "        for i in range(1, n):\n",
        "            if nums[i-1] > 0:\n",
        "                nums[i] += nums[i-1]\n",
        "        return max(nums)\n"
      ],
      "execution_count": 0,
      "outputs": []
    },
    {
      "cell_type": "markdown",
      "metadata": {
        "id": "wt3nl55nnhyq",
        "colab_type": "text"
      },
      "source": [
        "###分治法"
      ]
    },
    {
      "cell_type": "markdown",
      "metadata": {
        "id": "zkssJcrF_T0w",
        "colab_type": "text"
      },
      "source": [
        "最大和子序列出现位置有三种可能：左边、右边、跨过mid。三种情况的最大值即为答案。  \n",
        "其中跨过mid的max = 以mid-1结尾的max + 以mid+1开头的max + mid  \n",
        "（慢）"
      ]
    },
    {
      "cell_type": "code",
      "metadata": {
        "id": "tAGCeaNT-p7c",
        "colab_type": "code",
        "colab": {}
      },
      "source": [
        "class Solution: ~O(nlogn) #涉及二分法通常是nlogn\n",
        "    def maxSubArray(self, nums):\n",
        "        return self.helper(nums, 0, len(nums) - 1)\n",
        "    \n",
        "    def helper(self, nums, left, right): #常见，分治法辅助函数包含左右端点\n",
        "        if left >= right:\n",
        "            return nums[left]\n",
        "\n",
        "        mid = (left + right) // 2\n",
        "        sum_max_left = self.helper(nums, left, mid - 1) ##一定注意这里左边界不是nums最右端！\n",
        "        sum_max_right = self.helper(nums, mid + 1, right) #一定注意这里右边界不是nums最右端！\n",
        "\n",
        "        sum_max_acrossmid_right = 0\n",
        "        sum = 0\n",
        "        for i in range(mid + 1, right + 1):\n",
        "            sum += nums[i]\n",
        "            sum_max_acrossmid_right = max(sum_max_acrossmid_right, sum)\n",
        "        \n",
        "        sum_max_acrossmid_left = 0\n",
        "        sum = 0\n",
        "        for i in reversed(range(left, mid)): ##相当于range(mid-1, left-1, -1),因为包前不包后\n",
        "            sum += nums[i]\n",
        "            sum_max_acrossmid_left = max(sum_max_acrossmid_left, sum)\n",
        "        \n",
        "        sum_max_acrossmid = sum_max_acrossmid_right + sum_max_acrossmid_left + nums[mid]\n",
        "        return max(sum_max_left, sum_max_right, sum_max_acrossmid)\n"
      ],
      "execution_count": 0,
      "outputs": []
    },
    {
      "cell_type": "markdown",
      "metadata": {
        "id": "nlcLAZWbMngx",
        "colab_type": "text"
      },
      "source": [
        "## 70.Climbing Stairs\n",
        "You are climbing a stair case. It takes n steps to reach to the top.\n",
        "\n",
        "Each time you can either climb 1 or 2 steps. In how many distinct ways can you climb to the top?\n",
        "\n",
        "Note: Given n will be a positive integer."
      ]
    },
    {
      "cell_type": "markdown",
      "metadata": {
        "id": "7u83Vrs8Tkjh",
        "colab_type": "text"
      },
      "source": [
        "###递归\n",
        "与动态规划的区别在于，递归多次计算了重复的数。动态规划将计算过的数保存了下来后面还可以继续使用。  \n",
        "即：递归是函数的嵌套，动态规划是用数组记录之前的函数值"
      ]
    },
    {
      "cell_type": "code",
      "metadata": {
        "id": "5eazF4EfT68P",
        "colab_type": "code",
        "colab": {}
      },
      "source": [
        "class Solution:\n",
        "    def climbStairs(self, n: int) -> int:\n",
        "        if n == 1:\n",
        "            return 1\n",
        "        if n == 2:\n",
        "            return 2\n",
        "        return self.climbStairs(n-1) + self.climbStairs(n-2)"
      ],
      "execution_count": 0,
      "outputs": []
    },
    {
      "cell_type": "markdown",
      "metadata": {
        "id": "Y2JO0XxPMyxZ",
        "colab_type": "text"
      },
      "source": [
        "###动态规划\n",
        "显然是计算总数的动态规划问题，最后一步可以是1，也可以是2 \n",
        "f(n)表示到达f(n)的路径数  \n",
        "初始条件为f(1) = 1, f(2) = 2  \n",
        "转移方程为f(n) = f(n-1) + f(n-2)"
      ]
    },
    {
      "cell_type": "code",
      "metadata": {
        "id": "X4D5nGUsN7LW",
        "colab_type": "code",
        "colab": {}
      },
      "source": [
        "class Solution:\n",
        "    def climbStairs(self, n: int) -> int:\n",
        "        dict = {}\n",
        "        dict[1] = 1\n",
        "        dict[2] = 2\n",
        "        for i in range(3, n+1):\n",
        "            dict[i] = dict[i-1] + dict[i-2]\n",
        "        return dict[n]"
      ],
      "execution_count": 0,
      "outputs": []
    },
    {
      "cell_type": "markdown",
      "metadata": {
        "id": "fvuPDJBlTiTn",
        "colab_type": "text"
      },
      "source": [
        ""
      ]
    },
    {
      "cell_type": "markdown",
      "metadata": {
        "id": "BQtXJZl0hAhg",
        "colab_type": "text"
      },
      "source": [
        "## 88.Merge Sorted Array"
      ]
    },
    {
      "cell_type": "markdown",
      "metadata": {
        "id": "IIStJ1_SYTB3",
        "colab_type": "text"
      },
      "source": [
        "Given two sorted integer arrays nums1 and nums2, merge nums2 into nums1 as one sorted array."
      ]
    },
    {
      "cell_type": "markdown",
      "metadata": {
        "id": "UHlzjIj-hZUK",
        "colab_type": "text"
      },
      "source": [
        "###双指针\n",
        "题目要求不占用新的内存空间，则直接将两个list从后向前遍历，比出的大小在m+n处从后向前排列"
      ]
    },
    {
      "cell_type": "code",
      "metadata": {
        "id": "O6F1-zwyh6mn",
        "colab_type": "code",
        "colab": {}
      },
      "source": [
        "class Solution:\n",
        "    def merge(self, nums1, m, nums2, n) -> None:\n",
        "        k = 1\n",
        "        i = m - 1\n",
        "        j = n - 1\n",
        "        \n",
        "        while i >= 0 and j >= 0: #while中意思理解为：让i和j之一先下0。如果是j先下0，则i放在原地即可不用管；如果是i先下0，j把剩余的平移到i即可\n",
        "            if nums1[i] > nums2[j]:\n",
        "                nums1[m + n - k] = nums1[i]\n",
        "                i -= 1\n",
        "            else:\n",
        "                nums1[m + n - k] = nums2[j]\n",
        "                j -= 1\n",
        "            k += 1\n",
        "            \n",
        "        if j >= 0:\n",
        "            nums1[0 : j+1] = nums2[0 : j+1] #重要！数组赋值一定要点对点 https://www.cnblogs.com/monkey-moon/p/9347505.html"
      ],
      "execution_count": 0,
      "outputs": []
    },
    {
      "cell_type": "markdown",
      "metadata": {
        "id": "urPZjfvnpOoW",
        "colab_type": "text"
      },
      "source": [
        "## 104.Maximum Depth of Binary Tree\n",
        "Given a binary tree, find its maximum depth.\n",
        "\n",
        "The maximum depth is the number of nodes along the longest path from the root node down to the farthest leaf node."
      ]
    },
    {
      "cell_type": "markdown",
      "metadata": {
        "id": "it4A917acQ2M",
        "colab_type": "text"
      },
      "source": [
        "###递归法\n",
        "由于树是一种递归的数据结构，因此用递归去解决的时候往往非常容易"
      ]
    },
    {
      "cell_type": "code",
      "metadata": {
        "id": "KoqT6npebuyH",
        "colab_type": "code",
        "colab": {}
      },
      "source": [
        "class TreeNode:\n",
        "    def __init__(self, x): \n",
        "        self.val = x\n",
        "        self.left = None\n",
        "        self.right = None\n",
        "\n",
        "class Solution:\n",
        "    def maxDepth(self, root: TreeNode) -> int:\n",
        "        if not root: #写递归一定先把最后情况写出\n",
        "            return 0\n",
        "        return 1 + max(self.maxDepth(root.left),self.maxDepth(root.right))#最大层数=左右子树最大层数的大者+本层  #递归一定注意self的用法"
      ],
      "execution_count": 0,
      "outputs": []
    },
    {
      "cell_type": "markdown",
      "metadata": {
        "id": "xw0asIRjoqgP",
        "colab_type": "text"
      },
      "source": [
        "###！队列&BFS\n",
        "广度优先搜索使用队列来实现（1234567子树后进后出），每次遍历都把同层结点遍历完了才进入下一层，可称为层次搜索，很符合题意：  \n",
        "1、把根节点放到队列的末尾。  \n",
        "2、每次从队列的头部取出一个元素，查看这个元素所有的下一级元素，把它们放到队列的末尾。并把这个元素记为它下一级元素的前驱。\n"
      ]
    },
    {
      "cell_type": "code",
      "metadata": {
        "id": "lyZSUhjQoq4V",
        "colab_type": "code",
        "colab": {}
      },
      "source": [
        "class Solution(object):\n",
        "    def maxDepth(self, root):#注意，这里输入的只是根节点\n",
        "        if not root:\n",
        "            return 0\n",
        "        queue = [root]\n",
        "        print(len(queue))\n",
        "        depth = 0\n",
        "        while queue:\n",
        "            depth += 1\n",
        "            for i in range(len(queue)):#保证queue里现有的node全被pop，且子节点加入队尾。每次这个循环结束时，queue里的元素都全是下一层的了\n",
        "                cur_root = queue.pop(0)\n",
        "                if cur_root.left:\n",
        "                    queue.append(cur_root.left)\n",
        "                if cur_root.right:\n",
        "                    queue.append(cur_root.right)\n",
        "        return depth\n"
      ],
      "execution_count": 0,
      "outputs": []
    },
    {
      "cell_type": "markdown",
      "metadata": {
        "id": "kwbt8sC9bkHM",
        "colab_type": "text"
      },
      "source": [
        "####栈&DFS\n",
        "深度优先搜索用栈来实现（1245367子树后进先出），每次遍历都要把一条路走到底才再进入同层另一个节点:   \n",
        "1、把根节点压入栈中。    \n",
        "2、每次从栈中弹出一个元素，搜索所有在它下一级的元素，把这些元素压入栈中。并把这个元素记为它下一级元素的前驱。\n",
        "\n"
      ]
    },
    {
      "cell_type": "markdown",
      "metadata": {
        "id": "iWCiUk0Ei2eC",
        "colab_type": "text"
      },
      "source": [
        "## 121.Best Time to Buy and Sell Stock\n",
        "Say you have an array for which the $i^{th}$ element is the price of a given stock on day $i$.\n",
        "\n",
        "If you were only permitted to complete at most one transaction (i.e., buy one and sell one share of the stock), design an algorithm to find the maximum profit."
      ]
    },
    {
      "cell_type": "markdown",
      "metadata": {
        "id": "M6X9woSn7ShX",
        "colab_type": "text"
      },
      "source": [
        "###暴力枚举"
      ]
    },
    {
      "cell_type": "markdown",
      "metadata": {
        "id": "-pcNklWTAUKH",
        "colab_type": "text"
      },
      "source": [
        "和53题暴力枚举法一样，下面这种解法在每次比较的时候都重复比较了很多元素。在编程时一定主要静态比较重复造轮子"
      ]
    },
    {
      "cell_type": "code",
      "metadata": {
        "id": "B4hlc6hez6yo",
        "colab_type": "code",
        "colab": {}
      },
      "source": [
        "class Solution:\n",
        "    def maxProfit(self, prices: List[int]) -> int:\n",
        "        n = len(prices)\n",
        "        benefit = 0\n",
        "        if n <= 1:\n",
        "            return 0\n",
        "        for i in range(1, n):\n",
        "            buy = min(prices[:i])\n",
        "            sell = max(prices[i:])\n",
        "            benefit = max(sell - buy,benefit)\n",
        "            print(buy, sell, benefit)\n",
        "        return benefit"
      ],
      "execution_count": 0,
      "outputs": []
    },
    {
      "cell_type": "markdown",
      "metadata": {
        "id": "zHiW6gWUBtEb",
        "colab_type": "text"
      },
      "source": [
        "###！动态规划Kadane's Algorithm\n",
        "由于是先买入后卖出，从左向右遍历，保留当下已遍历到的最小buy（一定是当下此时此刻的最优购入时机；历史上的更优profit也一定出自于那时那刻的最小buy），所以一定以profit的最大作为衡量标准（其实就是在比较多个从最波谷到波峰的距离） \n",
        "思考这种问题一定不要有全局的静态意识，要随着从左到右一步一步深入\n",
        "\n",
        "简言之，最大值一定出现在max-min，只需比较不同的max-min即可(遍历的时候，用每个值x-min比较也行)"
      ]
    },
    {
      "cell_type": "code",
      "metadata": {
        "id": "BksimWQ_Bsyi",
        "colab_type": "code",
        "colab": {}
      },
      "source": [
        "def maxProfit(prices):\n",
        "    max_profit, min_price = 0, prices[0]\n",
        "    for price in prices:\n",
        "        min_price = min(min_price, price)\n",
        "        max_profit = max(max_profit, price - min_price)\n",
        "    return max_profit"
      ],
      "execution_count": 0,
      "outputs": []
    },
    {
      "cell_type": "markdown",
      "metadata": {
        "id": "p0EAPvXeU_oa",
        "colab_type": "text"
      },
      "source": [
        "## 122.best-time-to-buy-and-sell-stock2\n",
        "Say you have an array for which the ith element is the price of a given stock on day i.\n",
        "\n",
        "Design an algorithm to find the maximum profit. You may complete as many transactions as you like (i.e., buy one and sell one share of the stock multiple times).\n",
        "You may not engage in multiple transactions at the same time (i.e., you must sell the stock before you buy again)."
      ]
    },
    {
      "cell_type": "code",
      "metadata": {
        "id": "s0EJ69aV2xgi",
        "colab_type": "code",
        "colab": {}
      },
      "source": [
        "class Solution:\n",
        "    def maxProfit(self, prices: List[int]) -> int:\n",
        "        sum = 0\n",
        "        for i in range(len(prices) - 1):\n",
        "            if prices[i] < prices[i+1]:\n",
        "                sum += prices[i+1] - prices[i]\n",
        "        return sum"
      ],
      "execution_count": 0,
      "outputs": []
    },
    {
      "cell_type": "markdown",
      "metadata": {
        "id": "PGpPOBCQdAkN",
        "colab_type": "text"
      },
      "source": [
        "## 125.valid-palindrome\n",
        "Given a string, determine if it is a palindrome, considering only alphanumeric characters and ignoring cases.\n",
        "\n",
        "Note: For the purpose of this problem, we define empty string as valid palindrome."
      ]
    },
    {
      "cell_type": "code",
      "metadata": {
        "id": "4gNJb7FXfGU4",
        "colab_type": "code",
        "colab": {}
      },
      "source": [
        "class Solution: #使用pop涉及了数组元素的重新分配；此类直接用双指针，只判断不赋值更好\n",
        "    def isPalindrome(self, s: str) -> bool:\n",
        "        s = s.translate(str.maketrans('', '', string.punctuation+' ')).lower() #需要注意replace等操作不会改变原string的内容\n",
        "        s = list(s)\n",
        "        while len(s) > 1:\n",
        "            if s.pop(0) != s.pop():\n",
        "                return 0\n",
        "        return 1"
      ],
      "execution_count": 0,
      "outputs": []
    },
    {
      "cell_type": "markdown",
      "metadata": {
        "id": "hR3t4ssmgau7",
        "colab_type": "text"
      },
      "source": [
        "## 136.Single Number\n",
        "Given a non-empty array of integers, every element appears twice except for one. Find that single one."
      ]
    },
    {
      "cell_type": "markdown",
      "metadata": {
        "id": "gnqboM-Wlfgi",
        "colab_type": "text"
      },
      "source": [
        "###字典&哈希表\n",
        "对每个元素计数，最直观的想法是哈希表一次遍历完成，但是多占用了空间"
      ]
    },
    {
      "cell_type": "code",
      "metadata": {
        "id": "sqknHTtBgf4b",
        "colab_type": "code",
        "colab": {}
      },
      "source": [
        "class Solution: #~O(n)\n",
        "    def singleNumber(self, nums):\n",
        "        dict = {} #Hashmap用来计数，{num:count}\n",
        "\n",
        "        for num in nums:\n",
        "            dict[num] = dict.get(num, 0) + 1  #能找到，就返回key，找不到就返回0\n",
        "\n",
        "        for key, val in dict.items(): #同时对两个值遍历\n",
        "            if val == 1:\n",
        "                return key\n"
      ],
      "execution_count": 0,
      "outputs": []
    },
    {
      "cell_type": "markdown",
      "metadata": {
        "id": "v9u-S4jdq5ap",
        "colab_type": "text"
      },
      "source": [
        "###异或运算\n",
        "由于XOR（^）满足交换律，且两个相同元素异或结果为0，0与单个元素异或结果就是这个单个元素"
      ]
    },
    {
      "cell_type": "code",
      "metadata": {
        "id": "dW2RrpVwtN0s",
        "colab_type": "code",
        "colab": {}
      },
      "source": [
        "class Solution:\n",
        "    def singleNumber(self, nums):\n",
        "        res = 0\n",
        "        for num in nums:\n",
        "            res ^= num\n",
        "        return res"
      ],
      "execution_count": 0,
      "outputs": []
    },
    {
      "cell_type": "markdown",
      "metadata": {
        "id": "n36um7rU35MI",
        "colab_type": "text"
      },
      "source": [
        "## 155.Min Stack\n",
        "Design a stack that supports push, pop, top, and retrieving the minimum element in constant time."
      ]
    },
    {
      "cell_type": "markdown",
      "metadata": {
        "id": "HNyDAnGg4C6y",
        "colab_type": "text"
      },
      "source": [
        "### 暴力遍历"
      ]
    },
    {
      "cell_type": "code",
      "metadata": {
        "id": "odgtDyzG35dD",
        "colab_type": "code",
        "colab": {}
      },
      "source": [
        "class MinStack: ~O(n)\n",
        "    def __init__(self):\n",
        "        self.stack = []\n",
        "\n",
        "    def push(self, x: int):\n",
        "        self.stack.append(x)\n",
        "\n",
        "    def pop(self) -> None:\n",
        "        return self.stack.pop()\n",
        "\n",
        "    def top(self) -> int:\n",
        "        return self.stack[-1]\n",
        "\n",
        "    def getMin(self) -> int:\n",
        "        return min(self.stack)"
      ],
      "execution_count": 0,
      "outputs": []
    },
    {
      "cell_type": "markdown",
      "metadata": {
        "id": "pIDjA86A35GU",
        "colab_type": "text"
      },
      "source": [
        "###!双栈同步更新\n",
        "一个最小栈和原栈同步更新，存储当前最小值，缺点是对空间的耗费"
      ]
    },
    {
      "cell_type": "code",
      "metadata": {
        "id": "hDGdway_4WUP",
        "colab_type": "code",
        "colab": {}
      },
      "source": [
        "class MinStack: \n",
        "    def __init__(self):\n",
        "        self.stack = []\n",
        "        self.stack_min = []\n",
        "        self.Min = float('inf')\n",
        "\n",
        "    def push(self, x: int):\n",
        "        self.stack.append(x)\n",
        "        self.Min = min(self.Min, x)\n",
        "        self.stack_min.append(self.Min)\n",
        "\n",
        "    def pop(self):\n",
        "        self.stack.pop()\n",
        "        self.stack_min.pop()\n",
        "        if self.stack_min:#一看到[-1]这种表示，就要立刻警觉空集！\n",
        "            self.Min = self.stack_min[-1]\n",
        "        else:\n",
        "            self.Min = float('inf')\n",
        "\n",
        "    def top(self) -> int:\n",
        "        return self.stack[-1]\n",
        "\n",
        "    def getMin(self) -> int:\n",
        "        return self.Min"
      ],
      "execution_count": 0,
      "outputs": []
    },
    {
      "cell_type": "markdown",
      "metadata": {
        "id": "_SXmQSTeCJZx",
        "colab_type": "text"
      },
      "source": [
        "###差值法\n",
        "栈内压入的是与前一时刻最小值的差值，然后再更新此刻最小值；这样一来，栈顶存储的数字的正负可判断栈顶代表的数字是否为当前最小值。如果栈顶存储的数字为负数，意味着栈顶代表的数字比原来的最小值小，为当前最新的最小值"
      ]
    },
    {
      "cell_type": "code",
      "metadata": {
        "id": "buFY9FOJCOMs",
        "colab_type": "code",
        "colab": {}
      },
      "source": [
        "class MinStack:\n",
        "\n",
        "    def __init__(self):\n",
        "\n",
        "        self.Min = float('inf') #储存当前最小值\n",
        "        self.stack = []\n",
        "\n",
        "    def push(self, x: int):\n",
        "        self.stack.append(x - self.Min) #存入与当前最小值的差值\n",
        "        if x < self.Min: #先压入与之前最小值的差值，再更新此刻最小值；栈顶的正负可判断是否为当前最小值\n",
        "            self.Min = x\n",
        "\n",
        "    def pop(self):\n",
        "        tmp = self.stack.pop()\n",
        "        if tmp < 0:\n",
        "            self.Min -= tmp\n",
        "\n",
        "    def top(self):\n",
        "        tmp = self.stack[-1]\n",
        "        if tmp < 0:\n",
        "            return self.Min\n",
        "        else:\n",
        "            return self.Min + tmp\n",
        "\n",
        "    def getMin(self):\n",
        "        return self.Min"
      ],
      "execution_count": 0,
      "outputs": []
    },
    {
      "cell_type": "markdown",
      "metadata": {
        "id": "QajQ2D7yfbK-",
        "colab_type": "text"
      },
      "source": [
        "## 167.Two Sum II - Input array is sorted\n",
        "Given an array of integers that is already sorted in ascending order, find two numbers such that they add up to a specific target number.  \n",
        "\n",
        "The function twoSum should return indices of the two numbers such that they add up to the target, where index1 must be less than index2."
      ]
    },
    {
      "cell_type": "markdown",
      "metadata": {
        "id": "xyfH48ApklBC",
        "colab_type": "text"
      },
      "source": [
        "###暴力遍历\n",
        "两轮遍历遍历了全部符合题意的情况，但对流程缺少控制，有大量无用流程"
      ]
    },
    {
      "cell_type": "code",
      "metadata": {
        "id": "vWGL9vXSfd-K",
        "colab_type": "code",
        "colab": {}
      },
      "source": [
        "class Solution: \n",
        "    def twoSum(self, numbers: List[int], target: int) -> List[int]:\n",
        "        n = len(numbers)\n",
        "        for index1 in range(n):\n",
        "            for index2 in range(index1+1, n):\n",
        "                if numbers[index1] + numbers[index2] == target:\n",
        "                    return [index1+1, index2+1]"
      ],
      "execution_count": 0,
      "outputs": []
    },
    {
      "cell_type": "markdown",
      "metadata": {
        "id": "BH8KbuKSlGlm",
        "colab_type": "text"
      },
      "source": [
        "###双指针\n",
        "利用双指针的可控制性，从两头向中间遍历，一个指针逐渐变大，一个指针逐渐变小。对于每一个两元素和，要么大了要么小了，每次改变只牵扯一个指针"
      ]
    },
    {
      "cell_type": "code",
      "metadata": {
        "id": "buP72S6ClMQq",
        "colab_type": "code",
        "colab": {}
      },
      "source": [
        "class Solution:\n",
        "    def twoSum(self, numbers: List[int], target: int) -> List[int]:\n",
        "        left, right = 0, len(numbers) - 1\n",
        "        while left < right:\n",
        "            if numbers[left] + numbers[right] < target:\n",
        "                left += 1\n",
        "            if numbers[left] + numbers[right] > target:\n",
        "                right -= 1\n",
        "            if numbers[left] + numbers[right] == target:\n",
        "                return [left+1, right+1]"
      ],
      "execution_count": 0,
      "outputs": []
    },
    {
      "cell_type": "markdown",
      "metadata": {
        "id": "mrnxPxhwn4JI",
        "colab_type": "text"
      },
      "source": [
        "###！字典&哈希表\n",
        "构建字典{val, index + 1}来存储已经遍历过的数，对比暴力法相当于用空间换时间  \n",
        "在构建字典的时候，常见 ifXXXinXXX,else存入字典"
      ]
    },
    {
      "cell_type": "code",
      "metadata": {
        "id": "Pp9jKrHHn6CM",
        "colab_type": "code",
        "colab": {}
      },
      "source": [
        "class Solution:\n",
        "    def twoSum(self, numbers: List[int], target: int) -> List[int]:\n",
        "        visited = {}\n",
        "        for index, val in enumerate(numbers): #enumerate用于数组，items用于字典\n",
        "            if target - val in visited: #当前数所需另一半已被读取过\n",
        "                return [visited[target-val], index+1]\n",
        "            else:\n",
        "                visited[val] = index + 1 #构建字典{val, index + 1}"
      ],
      "execution_count": 0,
      "outputs": []
    },
    {
      "cell_type": "markdown",
      "metadata": {
        "id": "9bLTHgIfrsyD",
        "colab_type": "text"
      },
      "source": [
        "##169.Majority Element\n",
        "Given an array of size n, find the majority element. The majority element is the element that appears more than ⌊ n/2 ⌋ times.\n",
        "\n",
        "You may assume that the array is non-empty and the majority element always exist in the array.\n"
      ]
    },
    {
      "cell_type": "markdown",
      "metadata": {
        "id": "JLlRtmvutgAl",
        "colab_type": "text"
      },
      "source": [
        "###字典&哈希表\n",
        "和136题一样，对队列中每个数计数，常用哈希表，时间复杂度为O(1)，但空间复杂度多开了一个字典"
      ]
    },
    {
      "cell_type": "code",
      "metadata": {
        "id": "YauYejI-r1JJ",
        "colab_type": "code",
        "colab": {}
      },
      "source": [
        "class Solution:\n",
        "    def majorityElement(self, nums: List[int]) -> int:\n",
        "        dict = {}\n",
        "        n = len(nums)\n",
        "        for num in nums:\n",
        "            dict[num] = dict.get(num, 0) + 1\n",
        "        for key, val in dict.items():\n",
        "            if val > n / 2:\n",
        "                return key"
      ],
      "execution_count": 0,
      "outputs": []
    },
    {
      "cell_type": "markdown",
      "metadata": {
        "id": "v4X_YZl8u3Ff",
        "colab_type": "text"
      },
      "source": [
        "###trick\n",
        "由于这个数的个数大于2/n，所以在排序后，这些数全部列在一起，一定会经过队列中点，所以排序后中点的数就是所求"
      ]
    },
    {
      "cell_type": "code",
      "metadata": {
        "id": "SHKmnWY2vAhF",
        "colab_type": "code",
        "colab": {}
      },
      "source": [
        "class Solution:\n",
        "    def majorityElement(self, nums):\n",
        "        nums.sort()\n",
        "        return nums[len(nums)//2]"
      ],
      "execution_count": 0,
      "outputs": []
    },
    {
      "cell_type": "markdown",
      "metadata": {
        "id": "gd0IVoGCwQ8A",
        "colab_type": "text"
      },
      "source": [
        "##172.Factorial Trailing Zeroes\n",
        "Given an integer n, return the number of trailing zeroes in n!."
      ]
    },
    {
      "cell_type": "markdown",
      "metadata": {
        "id": "p6D7I5oR0nQz",
        "colab_type": "text"
      },
      "source": [
        "###数论\n",
        "其实是在求1到n中因子5的个数,这时候运用数论知识，而不应该直接遍历  \n",
        "$f(n)=\\frac{n}{5}+\\frac{n}{5^2}+...$"
      ]
    },
    {
      "cell_type": "code",
      "metadata": {
        "id": "C7-H9ar1wUkY",
        "colab_type": "code",
        "colab": {}
      },
      "source": [
        "class Solution:\n",
        "    def trailingZeroes(self, n: int) -> int:\n",
        "        count = 0\n",
        "        while n >= 5:\n",
        "            n = n // 5\n",
        "            count += n\n",
        "        return count"
      ],
      "execution_count": 0,
      "outputs": []
    },
    {
      "cell_type": "markdown",
      "metadata": {
        "id": "flUfu0LTXtjq",
        "colab_type": "text"
      },
      "source": [
        "##189.Rotate Array\n",
        "Given an array, rotate the array to the right by k steps, where k is non-negative.\n",
        "\n",
        "Note:\n",
        "\n",
        "- Try to come up as many solutions as you can, there are at least 3 different ways to solve this problem.\n",
        "- Could you do it in-place with O(1) extra space?"
      ]
    },
    {
      "cell_type": "markdown",
      "metadata": {
        "id": "hALGZQDJXt8B",
        "colab_type": "text"
      },
      "source": [
        "###新数组"
      ]
    },
    {
      "cell_type": "code",
      "metadata": {
        "id": "OJqsCbVAXubJ",
        "colab_type": "code",
        "colab": {}
      },
      "source": [
        "class Solution:\n",
        "    def rotate(self, nums: List[int], k: int) -> None:\n",
        "        queue = []\n",
        "        n = len(nums)\n",
        "        k = k % n\n",
        "        queue[:] = nums[-k:]\n",
        "        nums[k:] = nums[:-k]\n",
        "        nums[:k] = queue[:]  "
      ],
      "execution_count": 0,
      "outputs": []
    },
    {
      "cell_type": "markdown",
      "metadata": {
        "id": "JU0a4lcHYP6f",
        "colab_type": "text"
      },
      "source": [
        "###新数"
      ]
    },
    {
      "cell_type": "code",
      "metadata": {
        "id": "6nce1v1eYQRD",
        "colab_type": "code",
        "colab": {}
      },
      "source": [
        "        while k > 0:\n",
        "            tmp = nums[-1]\n",
        "            nums[1:] = nums[:-1]\n",
        "            nums[0] = tmp\n",
        "            k -= 1 "
      ],
      "execution_count": 0,
      "outputs": []
    },
    {
      "cell_type": "markdown",
      "metadata": {
        "id": "Jgqcvrz2akvK",
        "colab_type": "text"
      },
      "source": [
        "###三次翻转法\n",
        "- 先把[0, n - k - 1]翻转\n",
        "- 然后把[n - k, n - 1]翻转\n",
        "- 最后把[0, n - 1]翻转"
      ]
    },
    {
      "cell_type": "code",
      "metadata": {
        "id": "Z8yLbjmAa3ro",
        "colab_type": "code",
        "colab": {}
      },
      "source": [
        "class Solution: #写函数的时候一定写成（start, end）的形式，不要用数组的切片来表示\n",
        "    def rotate(self, nums: List[int], k: int) -> None:\n",
        "        n = len(nums)\n",
        "        k = k % n\n",
        "        if k == 0:\n",
        "            return nums\n",
        "        self.reverse(nums, 0, n - k - 1)\n",
        "        self.reverse(nums, n - k, n - 1)\n",
        "        self.reverse(nums, 0, n - 1)\n",
        "    def reverse(self, nums , start, end):\n",
        "        while end > start:\n",
        "            nums[start], nums[end] = nums[end], nums[start]\n",
        "            start += 1\n",
        "            end -= 1\n",
        "        return nums\n",
        "\n",
        "class Solution:#如果一定要用数组的切片来表示，一定要用对应的数组切片来接返回的数组！\n",
        "    def reverse(self, array):\n",
        "        low = 0 \n",
        "        high = len(array)-1\n",
        "        while low < high:\n",
        "            array[low], array[high] = array[high], array[low]\n",
        "            low += 1\n",
        "            high -= 1\n",
        "        return array\n",
        "    \n",
        "    def rotate(self, nums: List[int], k: int) -> None:\n",
        "        k = k%len(nums)\n",
        "        nums[-k:] = self.reverse(nums[-k:])###############\n",
        "        nums[:-k] = self.reverse(nums[:-k])###############\n",
        "        self.reverse(nums)"
      ],
      "execution_count": 0,
      "outputs": []
    },
    {
      "cell_type": "markdown",
      "metadata": {
        "id": "8FT6D3pdyyhm",
        "colab_type": "text"
      },
      "source": [
        "##190.Reverse Bits\n",
        "Reverse bits of a given 32 bits unsigned integer."
      ]
    },
    {
      "cell_type": "markdown",
      "metadata": {
        "id": "iSe55W2BCOpU",
        "colab_type": "text"
      },
      "source": [
        "###！基础位操作\n",
        "类似于queue，想象成不停地把队尾拿出来放入一个新队列\n"
      ]
    },
    {
      "cell_type": "code",
      "metadata": {
        "id": "lyk6dejQ7T-e",
        "colab_type": "code",
        "colab": {}
      },
      "source": [
        "class Solution:\n",
        "    def reverseBits(self, n):\n",
        "        result = 0                  \n",
        "        for i in range(32):\n",
        "            result = result << 1        #类似于queue，整体移位，空出来的地方补0，最先排进队尾的最后会变为队首\n",
        "            result = result + (n & 1)     #把内容放到队尾，n&1意思是取最后一位\n",
        "            n = n >> 1             #取n的倒数第i位\n",
        "        return result"
      ],
      "execution_count": 0,
      "outputs": []
    },
    {
      "cell_type": "markdown",
      "metadata": {
        "id": "a7trJEk1IMeL",
        "colab_type": "text"
      },
      "source": [
        "## 191.Number of 1 Bits\n",
        "Write a function that takes an unsigned integer and return the number of '1' bits it has (also known as the Hamming weight)."
      ]
    },
    {
      "cell_type": "markdown",
      "metadata": {
        "id": "3fewHBuGIU3j",
        "colab_type": "text"
      },
      "source": [
        "###基础位操作"
      ]
    },
    {
      "cell_type": "code",
      "metadata": {
        "id": "7HHcxk-y5ABh",
        "colab_type": "code",
        "colab": {}
      },
      "source": [
        "class Solution:\n",
        "    def hammingWeight(self, n: int) -> int:\n",
        "        count = 0\n",
        "        for i in range(32):\n",
        "            if n & 1 == 1:\n",
        "                count += 1\n",
        "            n = n >> 1\n",
        "        return count"
      ],
      "execution_count": 0,
      "outputs": []
    },
    {
      "cell_type": "markdown",
      "metadata": {
        "id": "rfrUL2T2IY2n",
        "colab_type": "text"
      },
      "source": [
        "###trick\n",
        "因为n-1就相当于把n中的最后一个1变为0，这个1后面的所有0变为1  \n",
        "所以每运行一次n = n & (n - 1)就可以消除这个末尾的1，同时这个1之后依然为0  \n",
        " \n"
      ]
    },
    {
      "cell_type": "code",
      "metadata": {
        "id": "eN46bDwQI7O9",
        "colab_type": "code",
        "colab": {}
      },
      "source": [
        "class Solution(object):\n",
        "    def hammingWeight(self, n):\n",
        "        count = 0\n",
        "        while n:\n",
        "            n = n & (n - 1)\n",
        "            count += 1\n",
        "        return count"
      ],
      "execution_count": 0,
      "outputs": []
    },
    {
      "cell_type": "markdown",
      "metadata": {
        "id": "Tx49rrL-Jteq",
        "colab_type": "text"
      },
      "source": [
        "## @198.House Robber\n",
        "You are a professional robber planning to rob houses along a street. Each house has a certain amount of money stashed, the only constraint stopping you from robbing each of them is that adjacent houses have security system connected and it will automatically contact the police if two adjacent houses were broken into on the same night.\n",
        "\n",
        "Given a list of non-negative integers representing the amount of money of each house, determine the maximum amount **of** money you can rob tonight without alerting the police."
      ]
    },
    {
      "cell_type": "markdown",
      "metadata": {
        "id": "B9TaNdFOXh-6",
        "colab_type": "text"
      },
      "source": [
        "###动态规划"
      ]
    },
    {
      "cell_type": "code",
      "metadata": {
        "id": "PhLma1A3KFo-",
        "colab_type": "code",
        "colab": {}
      },
      "source": [
        ""
      ],
      "execution_count": 0,
      "outputs": []
    },
    {
      "cell_type": "markdown",
      "metadata": {
        "id": "2-1ZuyX2gzj6",
        "colab_type": "text"
      },
      "source": [
        "##203.Remove Linked List Elements\n",
        "Remove all elements from a linked list of integers that have value val."
      ]
    },
    {
      "cell_type": "markdown",
      "metadata": {
        "id": "nUh00VGri2BU",
        "colab_type": "text"
      },
      "source": [
        "\n",
        "做链表题：curve！dummy head！(用next即可遍历全部元素)"
      ]
    },
    {
      "cell_type": "code",
      "metadata": {
        "id": "GPlB6RFbg8kq",
        "colab_type": "code",
        "colab": {}
      },
      "source": [
        "# Definition for singly-linked list.\n",
        "# class ListNode:\n",
        "#     def __init__(self, x):\n",
        "#         self.val = x\n",
        "#         self.next = None\n",
        "\n",
        "class Solution:\n",
        "    def removeElements(self, head: ListNode, val: int) -> ListNode: #对链表进行操作时，都用头指针来表示\n",
        "        prev = ListNode(0) #新初始化一个dummy head并赋值\n",
        "        prev.next = head #为dummy head指定下一个元素\n",
        "        cur = prev #指针放在dummy head\n",
        "        while cur.next:\n",
        "            if cur.next.val == val:\n",
        "                cur.next = cur.next.next\n",
        "            else:\n",
        "                cur = cur.next\n",
        "        return prev.next"
      ],
      "execution_count": 0,
      "outputs": []
    },
    {
      "cell_type": "markdown",
      "metadata": {
        "id": "2O5fJGj3m68J",
        "colab_type": "text"
      },
      "source": [
        "##背过206.Reverse Linked List\n",
        "Reverse a singly linked list.(utility problem)"
      ]
    },
    {
      "cell_type": "markdown",
      "metadata": {
        "id": "rD05qLK0py3P",
        "colab_type": "text"
      },
      "source": [
        "###双指针迭代\n",
        "核心是把每一步中的cur.next赋值为prev，把向右的箭头改为向左。所以需要cur表示现在，prev表示之前。但将cur.next赋值为prev之后胡就无法表示下一个元素了，所以一开始就用nex来备份"
      ]
    },
    {
      "cell_type": "code",
      "metadata": {
        "id": "gL8xP7-anFnv",
        "colab_type": "code",
        "colab": {}
      },
      "source": [
        "# Definition for singly-linked list.\n",
        "# class ListNode:\n",
        "#     def __init__(self, x):\n",
        "#         self.val = x\n",
        "#         self.next = None\n",
        "\n",
        "class Solution:\n",
        "    def reverseList(self, head: ListNode) -> ListNode:\n",
        "        #initialization\n",
        "        cur = head\n",
        "        prev = None\n",
        "        while cur:\n",
        "            #backup\n",
        "            nex = cur.next\n",
        "           \n",
        "            #reverse\n",
        "            cur.next = prev#注意不要写反了\n",
        "            \n",
        "            #forward\n",
        "            prev = cur\n",
        "            cur = nex\n",
        "            \n",
        "        return prev #本来应该是cur，但最后一步把cur赋值成了nex了"
      ],
      "execution_count": 0,
      "outputs": []
    },
    {
      "cell_type": "markdown",
      "metadata": {
        "id": "QhJCpT-Op2zY",
        "colab_type": "text"
      },
      "source": [
        "###递归\n",
        "用递归函数把以head.next开头的子链翻转，再把head.next到head,以及head到None的箭头翻转，返回子链的开头即可"
      ]
    },
    {
      "cell_type": "code",
      "metadata": {
        "id": "sh0VvW_9pVLj",
        "colab_type": "code",
        "colab": {}
      },
      "source": [
        "class Solution:\n",
        "    def reverseList(self, head: ListNode) -> ListNode:\n",
        "        if not head or not head.next: return head\n",
        "        ans = self.reverseList(head.next)\n",
        "        head.next.next = head\n",
        "        head.next = None\n",
        "        return ans"
      ],
      "execution_count": 0,
      "outputs": []
    },
    {
      "cell_type": "markdown",
      "metadata": {
        "id": "nYYKCt0Ytsga",
        "colab_type": "text"
      },
      "source": [
        "##219.Contains Duplicate II\n",
        "Given an array of integers and an integer k, find out whether there are two distinct indices i and j in the array such that nums[i] = nums[j] and the absolute difference between i and j is at most k."
      ]
    },
    {
      "cell_type": "markdown",
      "metadata": {
        "id": "lHyyx5QBty6x",
        "colab_type": "text"
      },
      "source": [
        "###字典&哈希表\n",
        "哈希表不仅可以储存出现次数，也可以储存之前出现数字的index。在不限制存储空间的情况下应当优先想到哈希表"
      ]
    },
    {
      "cell_type": "code",
      "metadata": {
        "id": "k8OSNrGAtyWA",
        "colab_type": "code",
        "colab": {}
      },
      "source": [
        "class Solution:\n",
        "    def containsNearbyDuplicate(self, nums: List[int], k: int) -> bool:\n",
        "        dict = {}\n",
        "        for index, num in enumerate(nums): #常用！记住！\n",
        "            if num in dict and index - dict.get(num) <= k:\n",
        "                return True\n",
        "            dict[num] = index\n",
        "        return False\n"
      ],
      "execution_count": 0,
      "outputs": []
    },
    {
      "cell_type": "markdown",
      "metadata": {
        "id": "ul4Dh23pxl9w",
        "colab_type": "text"
      },
      "source": [
        "##226.Invert Binary Tree"
      ]
    },
    {
      "cell_type": "markdown",
      "metadata": {
        "id": "j9XxSDPExnUQ",
        "colab_type": "text"
      },
      "source": [
        "###递归\n",
        "看到树的递归结构，直接上递归\n",
        "\n",
        "由于每个节点只遍历了一次，时间复杂度为O(n)"
      ]
    },
    {
      "cell_type": "code",
      "metadata": {
        "id": "UxhBu2bExnyR",
        "colab_type": "code",
        "colab": {}
      },
      "source": [
        "# Definition for a binary tree node.\n",
        "# class TreeNode:\n",
        "#     def __init__(self, x):\n",
        "#         self.val = x\n",
        "#         self.left = None\n",
        "#         self.right = None\n",
        "\n",
        "class Solution:\n",
        "    def invertTree(self, root: TreeNode) -> TreeNode:\n",
        "        \n",
        "        if root and (root.left or root.right):\n",
        "            root.left, root.right = self.invertTree(root.right), self.invertTree(root.left)\n",
        "        return root"
      ],
      "execution_count": 0,
      "outputs": []
    },
    {
      "cell_type": "markdown",
      "metadata": {
        "id": "UyO9Nzqf5pvg",
        "colab_type": "text"
      },
      "source": [
        "##232.Implement Queue using Stacks\n",
        "一定注意！在init模块中定义的量，在其他模块引用要加self"
      ]
    },
    {
      "cell_type": "code",
      "metadata": {
        "id": "Uta-srJo5qIO",
        "colab_type": "code",
        "colab": {}
      },
      "source": [
        "class MyQueue:\n",
        "\n",
        "    def __init__(self):\n",
        "        self.queue = []\n",
        "\n",
        "    def push(self, x: int) -> None:\n",
        "        self.queue.append(x)\n",
        "\n",
        "    def pop(self) -> int:\n",
        "        newqueue = []\n",
        "        while self.queue:\n",
        "            newqueue.append(self.queue.pop())\n",
        "        s = newqueue.pop()\n",
        "        while newqueue:\n",
        "            self.queue.append(newqueue.pop())\n",
        "        return s\n",
        "\n",
        "    def peek(self) -> int:\n",
        "        return self.queue[0]\n",
        "\n",
        "    def empty(self) -> bool:\n",
        "        return not self.queue\n"
      ],
      "execution_count": 0,
      "outputs": []
    },
    {
      "cell_type": "markdown",
      "metadata": {
        "id": "IjrdG-yT-vie",
        "colab_type": "text"
      },
      "source": [
        "##263.Ugly Number\n",
        "Write a program to check whether a given number is an ugly number.\n",
        "\n",
        "Ugly numbers are positive numbers whose prime factors only include 2, 3, 5."
      ]
    },
    {
      "cell_type": "markdown",
      "metadata": {
        "id": "QC_dl4KRKcoT",
        "colab_type": "text"
      },
      "source": [
        "###数论\n",
        "考察对质因子的理解"
      ]
    },
    {
      "cell_type": "code",
      "metadata": {
        "id": "HvXD1ljOKfHd",
        "colab_type": "code",
        "colab": {}
      },
      "source": [
        "class Solution:\n",
        "    def isUgly(self, num: int) -> bool:\n",
        "        if num < 1:\n",
        "            return False\n",
        "        for i in (2, 3, 5):\n",
        "            while num % i == 0:\n",
        "                num = num // i\n",
        "        if num == 1:\n",
        "            return True\n",
        "        return False"
      ],
      "execution_count": 0,
      "outputs": []
    },
    {
      "cell_type": "markdown",
      "metadata": {
        "id": "9kY-8HJALXzs",
        "colab_type": "text"
      },
      "source": [
        "##283.move zeroes\n",
        "Given an array nums, write a function to move all 0's to the end of it while maintaining the relative order of the non-zero elements.\n",
        "\n",
        "Note:You must do this in-place without making a copy of the array.\n"
      ]
    },
    {
      "cell_type": "markdown",
      "metadata": {
        "id": "wnB8K6vPekU_",
        "colab_type": "text"
      },
      "source": [
        "###暴力\n",
        "平方级别的运算复杂度需要优化\n",
        "\n",
        "在进行类似pop操作时（pop操作其实本身就复制了一遍array），一定注意！步进的条件！进行了pop就不用步进了！不pop的时候才步进！"
      ]
    },
    {
      "cell_type": "code",
      "metadata": {
        "id": "9kyQmzg8gUBL",
        "colab_type": "code",
        "colab": {}
      },
      "source": [
        "class Solution:\n",
        "    def moveZeroes(self, nums) -> None:\n",
        "        num_cur = 0\n",
        "        zero_cur = len(nums) - 1\n",
        "        while num_cur < zero_cur:\n",
        "            if nums[num_cur] == 0:\n",
        "                for j in range(num_cur+1,zero_cur+1):\n",
        "                    nums[j-1] = nums[j]\n",
        "                nums[zero_cur] = 0\n",
        "                zero_cur -= 1\n",
        "            num_cur += 1\n"
      ],
      "execution_count": 0,
      "outputs": []
    },
    {
      "cell_type": "markdown",
      "metadata": {
        "id": "YxbHYK55sDTN",
        "colab_type": "text"
      },
      "source": [
        "###双指针\n",
        "对于双指针的问题以及原地处理的问题，不要有刻板印象必须要进行嵌套循环，不是必须要每移动一位就全体移位改变一遍。完全可以对每个数从新编号。**一定要摒弃pop思维**\n",
        "\n",
        "同时，考虑这种问题，不一定要直接考虑是0怎么办，更可以直接从考虑不是0的数怎么办开始入手。"
      ]
    },
    {
      "cell_type": "code",
      "metadata": {
        "id": "RsVq-x6rz144",
        "colab_type": "code",
        "colab": {}
      },
      "source": [
        "class Solution:\n",
        "    def moveZeroes(self, nums) -> None:\n",
        "        pos = 0\n",
        "        new_index = 0\n",
        "        while pos < len(nums):\n",
        "            if nums[pos] != 0:\n",
        "                nums[new_index] = nums[pos]\n",
        "                new_index += 1\n",
        "            pos += 1\n",
        "        while new_index < len(nums):\n",
        "            nums[new_index] = 0\n",
        "            new_index += 1"
      ],
      "execution_count": 0,
      "outputs": []
    },
    {
      "cell_type": "markdown",
      "metadata": {
        "id": "ZY5Ujxh7q4xd",
        "colab_type": "text"
      },
      "source": [
        "##349.intersection of two arrays\n",
        "iven two arrays, write a function to compute their intersection.\n",
        "\n",
        "Each element in the result must be unique.\n",
        "\n",
        "The result can be in any order."
      ]
    },
    {
      "cell_type": "markdown",
      "metadata": {
        "id": "m_MnpWrkrHBa",
        "colab_type": "text"
      },
      "source": [
        "###字典&哈希表"
      ]
    },
    {
      "cell_type": "code",
      "metadata": {
        "id": "vcpO9anNrHTV",
        "colab_type": "code",
        "colab": {}
      },
      "source": [
        "class Solution:\n",
        "    def intersection(self, nums1: List[int], nums2: List[int]) -> List[int]:\n",
        "        ans = []\n",
        "        dic = {}\n",
        "        for i in range(len(nums1)):\n",
        "            dic[nums1[i]] = 1\n",
        "        for i in range(len(nums2)):\n",
        "            if nums2[i] in dic:\n",
        "                dic[nums2[i]] = 2\n",
        "        for key,val in dic.items():\n",
        "            if val == 2:\n",
        "                ans.append(key)\n",
        "        return ans\n",
        "                \n",
        "        "
      ],
      "execution_count": 0,
      "outputs": []
    },
    {
      "cell_type": "markdown",
      "metadata": {
        "id": "A_3r4Od2p2tj",
        "colab_type": "text"
      },
      "source": [
        "##371.sum of two integers\n",
        "Calculate the sum of two integers a and b, but you are not allowed to use the operator + and -."
      ]
    },
    {
      "cell_type": "markdown",
      "metadata": {
        "id": "0oHl3YPPp8dO",
        "colab_type": "text"
      },
      "source": [
        "###位计算\n",
        "- a^b 得到不含进位之和（均为1时未进位）\n",
        "\n",
        "- a&b 得到本该进位的位置（均为1的位）\n",
        "- (a&b)<<1 将这些位左移1，进位到上1位。 但 (a&b)<<1 之后可能仍不为0，则要继续进位。\n",
        "- 也就是说 a + b = (a ^ b) ^ (carry)\n",
        "\n",
        "- 只要进位不为零，则迭代；否则返回"
      ]
    },
    {
      "cell_type": "code",
      "metadata": {
        "id": "GJhDb4Bpp_to",
        "colab_type": "code",
        "colab": {}
      },
      "source": [
        "    def aplusb(self, a, b):\n",
        "        fakesum = a ^ b\n",
        "        carry = (a & b) << 1\n",
        "        while(carry):\n",
        "            carry = carry << 1\n",
        "            ans = fakesum ^ carry \n",
        "      \n",
        "   return ans"
      ],
      "execution_count": 0,
      "outputs": []
    },
    {
      "cell_type": "markdown",
      "metadata": {
        "id": "soDEQFN8mqAw",
        "colab_type": "text"
      },
      "source": [
        "#437.@Path Sum III\n",
        "You are given a binary tree in which each node contains an integer value.\n",
        "\n",
        "Find the number of paths that sum to a given value.\n",
        "\n",
        "The path does not need to start or end at the root or a leaf, but it must go downwards (traveling only from parent nodes to child nodes).\n",
        "\n",
        "The tree has no more than 1,000 nodes and the values are in the range -1,000,000 to 1,000,000.\n"
      ]
    },
    {
      "cell_type": "markdown",
      "metadata": {
        "id": "LY59nNUaoSjd",
        "colab_type": "text"
      },
      "source": [
        "###双重递归\n"
      ]
    },
    {
      "cell_type": "code",
      "metadata": {
        "id": "iYlIXjVRCeJt",
        "colab_type": "code",
        "colab": {}
      },
      "source": [
        "class Solution:\n",
        "    \n",
        "    def pathSum(self, root: TreeNode, sum: int) -> int:\n",
        "        \n",
        "        if not root:\n",
        "            return 0\n",
        "        return self.dfs(root, sum) + self.pathSum(root.left, sum) + self.pathSum(root.right, sum)\n",
        "        \n",
        "    def dfs(self, root, path):\n",
        "        if not root:\n",
        "            return 0\n",
        "        path -= root.val\n",
        "        return (1 if path==0 else 0) + self.dfs(root.left, path) + self.dfs(root.right, path)\n",
        "\n",
        "作者：sammy-4\n",
        "链接：https://leetcode-cn.com/problems/path-sum-iii/solution/hot-100-437lu-jing-zong-he-iii-python3-li-jie-di-g/\n",
        "来源：力扣（LeetCode）\n",
        "著作权归作者所有。商业转载请联系作者获得授权，非商业转载请注明出处。"
      ],
      "execution_count": 0,
      "outputs": []
    },
    {
      "cell_type": "markdown",
      "metadata": {
        "id": "jmTUHP5gsMP9",
        "colab_type": "text"
      },
      "source": [
        "##575.Distribute Candies\n",
        "Given an integer array with even length, where different numbers in this array represent different kinds of candies. Each number means one candy of the corresponding kind. You need to distribute these candies equally in number to brother and sister. Return the maximum number of kinds of candies the sister could gain.\n",
        "\n",
        "The length of the given array is in range [2, 10,000], and will be even.\n",
        "\n",
        "The number in given array is in range [-100,000, 100,000]."
      ]
    },
    {
      "cell_type": "markdown",
      "metadata": {
        "id": "oVkELuP6t6TU",
        "colab_type": "text"
      },
      "source": [
        "###字典&哈希表\n",
        "要想建立哈希表，则需要遍历整个数组\n",
        "\n",
        "\n"
      ]
    },
    {
      "cell_type": "code",
      "metadata": {
        "id": "8Ce_MFZBt9qb",
        "colab_type": "code",
        "colab": {}
      },
      "source": [
        "class Solution:\n",
        "    def distributeCandies(self, candies: List[int]) -> int:\n",
        "        hashmap = {}\n",
        "        n = len(candies)\n",
        "        for i in range(n):\n",
        "            hashmap[candies[i]] = hashmap.get(candies[i], 0) + 1\n",
        "\n",
        "        kinds = len(hashmap)\n",
        "        if n/2 >= kinds:\n",
        "            return kinds\n",
        "        else:\n",
        "            return n//2"
      ],
      "execution_count": 0,
      "outputs": []
    },
    {
      "cell_type": "markdown",
      "metadata": {
        "id": "slCMJ6U_xBYM",
        "colab_type": "text"
      },
      "source": [
        "###集合\n",
        "计算数列中数字种类个数的最快方式：len(set([1,2,3,4]))"
      ]
    },
    {
      "cell_type": "code",
      "metadata": {
        "id": "U5oHleJwxZZc",
        "colab_type": "code",
        "colab": {}
      },
      "source": [
        "class Solution:\n",
        "    def distributeCandies(self, candies: List[int]) -> int:\n",
        "        return min(len(set(candies)), len(candies) // 2)"
      ],
      "execution_count": 0,
      "outputs": []
    },
    {
      "cell_type": "markdown",
      "metadata": {
        "id": "RLDQefGtxg64",
        "colab_type": "text"
      },
      "source": [
        "##874.Walking Robot Simulation\n",
        "A robot on an infinite grid starts at point (0, 0) and faces north.  The robot can receive one of three possible types of commands:\n",
        "\n",
        "-2: turn left 90 degrees\n",
        "-1: turn right 90 degrees\n",
        "1 <= x <= 9: move forward x units\n",
        "Some of the grid squares are obstacles. \n",
        "\n",
        "The i-th obstacle is at grid point (obstacles[i][0], obstacles[i][1])\n",
        "\n",
        "If the robot would try to move onto them, the robot stays on the previous grid square instead (but still continues following the rest of the route.)\n",
        "\n",
        "Return the square of the maximum Euclidean distance that the robot will be from the origin."
      ]
    },
    {
      "cell_type": "markdown",
      "metadata": {
        "id": "jJSyoWyQyez-",
        "colab_type": "text"
      },
      "source": [
        "###复制的\n",
        "map(func,[])意思就是对[]内每个元素都进行func"
      ]
    },
    {
      "cell_type": "code",
      "metadata": {
        "id": "KF4WWJccyhy0",
        "colab_type": "code",
        "colab": {}
      },
      "source": [
        "class Solution:\n",
        "    def robotSim(self, commands: List[int], obstacles: List[List[int]]) -> int:\n",
        "        pos = [0, 0]\n",
        "        deg = 90\n",
        "        ans = 0\n",
        "        obstaclesSet = set(map(tuple, obstacles))#把队列的队列List[List[]]变为元组的集合Set(tuple())\n",
        "\n",
        "        for command in commands:\n",
        "            if command == -1:\n",
        "                deg = (deg + 270) % 360\n",
        "            elif command == -2:\n",
        "                deg = (deg + 90) % 360\n",
        "            else:\n",
        "                if deg == 0:\n",
        "                    i = 0\n",
        "                    while i < command and not (pos[0] + 1, pos[1]) in obstaclesSet:\n",
        "                        pos[0] += 1\n",
        "                        i += 1\n",
        "                if deg == 90:\n",
        "                    i = 0\n",
        "                    while i < command and not (pos[0], pos[1] + 1) in obstaclesSet:\n",
        "                        pos[1] += 1\n",
        "                        i += 1\n",
        "                if deg == 180:\n",
        "                    i = 0\n",
        "                    while i < command and not (pos[0] - 1, pos[1]) in obstaclesSet:\n",
        "                        pos[0] -= 1\n",
        "                        i += 1\n",
        "                if deg == 270:\n",
        "                    i = 0\n",
        "                    while i < command and not (pos[0], pos[1] - 1) in obstaclesSet:\n",
        "                        pos[1] -= 1\n",
        "                        i += 1\n",
        "                ans = max(ans, pos[0] ** 2 + pos[1] ** 2)\n",
        "        return ans"
      ],
      "execution_count": 0,
      "outputs": []
    },
    {
      "cell_type": "markdown",
      "metadata": {
        "id": "xyUeCIhY7GDH",
        "colab_type": "text"
      },
      "source": [
        "#Medium"
      ]
    },
    {
      "cell_type": "markdown",
      "metadata": {
        "id": "mzw3n7KYCklU",
        "colab_type": "text"
      },
      "source": [
        "#@46"
      ]
    },
    {
      "cell_type": "markdown",
      "metadata": {
        "id": "jbNu-1_JG9eV",
        "colab_type": "text"
      },
      "source": [
        "##49.Group Anagrams\n",
        "Given an array of strings, group anagrams together."
      ]
    },
    {
      "cell_type": "markdown",
      "metadata": {
        "id": "Bhag_UhpG-ye",
        "colab_type": "text"
      },
      "source": [
        "###字典&哈希表"
      ]
    },
    {
      "cell_type": "code",
      "metadata": {
        "id": "Vyts7imwHBQx",
        "colab_type": "code",
        "colab": {}
      },
      "source": [
        "class Solution:\n",
        "    def groupAnagrams(self, strs: List[str]) -> List[List[str]]:\n",
        "        dict = {}\n",
        "\n",
        "        for str in strs:\n",
        "            temp = str\n",
        "            a = list(str)\n",
        "            a.sort()####一定要注意sort函数没有返回值，是在原地修改的     ####排序一定是对list、tuple等有序队列进行的\n",
        "            a = \"\".join(a)\n",
        "            if a not in dict:####字典的key不能是list\n",
        "                dict[a] = []\n",
        "                \n",
        "            dict[a].append(temp) #sort:str\n",
        "        print(dict)\n",
        "        ans = []\n",
        "\n",
        "        for key, val in dict.items():\n",
        "            ans.append(val)\n",
        "\n",
        "        return ans\n",
        "            \n",
        "            \n",
        "        "
      ],
      "execution_count": 0,
      "outputs": []
    },
    {
      "cell_type": "markdown",
      "metadata": {
        "id": "oLZknBKZILeQ",
        "colab_type": "text"
      },
      "source": [
        "Python中通过Key访问字典，当Key不存在时，会引发‘KeyError’异常。为了避免这种情况的发生，可以使用collections类中的defaultdict()方法来为字典提供默认值。\n",
        "\n",
        "语法格式：\n",
        "collections.defaultdict([default_factory[, …]])\n",
        "\n",
        "该函数返回一个类似字典的对象。defaultdict是Python内建字典类（dict）的一个子类，它重写了方法_missing_(key)，增加了一个可写的实例变量default_factory,实例变量default_factory被missing()方法使用，如果该变量存在，则用以初始化构造器，如果没有，则为None。其它的功能和dict一样。\n"
      ]
    },
    {
      "cell_type": "code",
      "metadata": {
        "id": "n91dWvIXHeur",
        "colab_type": "code",
        "colab": {}
      },
      "source": [
        "class Solution(object):\n",
        "    def groupAnagrams(self, strs):\n",
        "        ans = collections.defaultdict(list)\n",
        "        for s in strs:\n",
        "            ans[tuple(sorted(s))].append(s) ####tuple被排序后可直接作为字典的key\n",
        "        return ans.values()"
      ],
      "execution_count": 0,
      "outputs": []
    },
    {
      "cell_type": "markdown",
      "metadata": {
        "id": "ZjMHCbekU48K",
        "colab_type": "text"
      },
      "source": [
        "##@55.Jump Game"
      ]
    },
    {
      "cell_type": "markdown",
      "metadata": {
        "id": "7IrHNyhsVUqC",
        "colab_type": "text"
      },
      "source": [
        "###动态规划\n",
        "典型的存在型动态规划问题，这道题目是一道典型的回溯类型题目。 思路就是用一个变量记录当前能够到达的最大的索引，我们逐个遍历数组中的元素去更新这个索引。 变量完成判断这个索引是否大于数组下表即可。"
      ]
    },
    {
      "cell_type": "code",
      "metadata": {
        "id": "CAA-pKZhU7EO",
        "colab_type": "code",
        "colab": {}
      },
      "source": [
        ""
      ],
      "execution_count": 0,
      "outputs": []
    },
    {
      "cell_type": "markdown",
      "metadata": {
        "id": "TqeiPeMUKpmP",
        "colab_type": "text"
      },
      "source": [
        "##62.Unique Paths\n",
        "A robot is located at the top-left corner of a m x n grid (marked 'Start' in the diagram below).  \n",
        "\n",
        "The robot can only move either down or right at any point in time. The robot is trying to reach the bottom-right corner of the grid (marked 'Finish' in the diagram below).  \n",
        "\n",
        "How many possible unique paths are there?"
      ]
    },
    {
      "cell_type": "markdown",
      "metadata": {
        "id": "uYE_gAd1cxFR",
        "colab_type": "text"
      },
      "source": [
        "###动态规划\n",
        "设dp[i, j]表示从(0, 0)到(i,  j)的路径数  \n",
        "dp[i, j] = dp[i-1, j] + dp[i, j-1]  \n",
        "dp[0, j] = dp[i, 0] = 1"
      ]
    },
    {
      "cell_type": "code",
      "metadata": {
        "id": "3G43foIHdO2W",
        "colab_type": "code",
        "colab": {}
      },
      "source": [
        "class Solution:\n",
        "    def uniquePaths(self, m: int, n: int) -> int:\n",
        "        dp = [[0] * n for i in range(m)] #常用！创建二维数组的方法\n",
        "        for i in range(m):\n",
        "            dp[i][0] = 1\n",
        "        for j in range(n):\n",
        "            dp[0][j] = 1\n",
        "        for i in range(1, m):\n",
        "            for j in range(1, n):\n",
        "                dp[i][j] = dp[i-1][j] + dp[i][j-1]\n",
        "        return dp[m-1][n-1]"
      ],
      "execution_count": 0,
      "outputs": []
    },
    {
      "cell_type": "markdown",
      "metadata": {
        "id": "_rZ4E6OuMVvH",
        "colab_type": "text"
      },
      "source": [
        "##63.Unique Paths II\n",
        "A robot is located at the top-left corner of a m x n grid (marked 'Start' in the diagram below).\n",
        "\n",
        "The robot can only move either down or right at any point in time. The robot is trying to reach the bottom-right corner of the grid (marked 'Finish' in the diagram below).\n",
        "\n",
        "Now consider if some obstacles are added to the grids. How many unique paths would there be?"
      ]
    },
    {
      "cell_type": "markdown",
      "metadata": {
        "id": "KnJbwZX2ipdF",
        "colab_type": "text"
      },
      "source": [
        "###动态规划\n",
        "难点在于在同一张表上，逐步用路径数替代障碍物状态。  \n",
        "逻辑：对于初始化边界条件，只有当本格无障碍且前格有一条路径（是通的），本格才有一条路径"
      ]
    },
    {
      "cell_type": "code",
      "metadata": {
        "id": "2e7a_QpVis0b",
        "colab_type": "code",
        "colab": {}
      },
      "source": [
        "class Solution(object):\n",
        "    def uniquePathsWithObstacles(self, obstacleGrid):\n",
        "        m = len(obstacleGrid) #常见！求二元数组维数的方法\n",
        "        n = len(obstacleGrid[0])\n",
        "        if obstacleGrid[0][0] == 1:\n",
        "            return 0\n",
        "        else:\n",
        "            obstacleGrid[0][0] = 1\n",
        "\n",
        "        for i in range(1,m):\n",
        "            obstacleGrid[i][0] = int(obstacleGrid[i][0] == 0 and obstacleGrid[i-1][0] == 1) #只有当本格无障碍且前格有一条路径（是通的），本格才有一条路径\n",
        "        \n",
        "        for j in range(1, n):\n",
        "            obstacleGrid[0][j] = int(obstacleGrid[0][j] == 0 and obstacleGrid[0][j-1] == 1)\n",
        "\n",
        "        for i in range(1,m):\n",
        "            for j in range(1,n):\n",
        "                if obstacleGrid[i][j] == 0:\n",
        "                    obstacleGrid[i][j] = obstacleGrid[i-1][j] + obstacleGrid[i][j-1]\n",
        "                else:\n",
        "                    obstacleGrid[i][j] = 0           \n",
        "        return obstacleGrid[m-1][n-1]"
      ],
      "execution_count": 0,
      "outputs": []
    },
    {
      "cell_type": "markdown",
      "metadata": {
        "id": "gvLihPyJWTgq",
        "colab_type": "text"
      },
      "source": [
        "##@64.Minimum Path Sum\n",
        "Given a m x n grid filled with non-negative numbers, find a path from top left to bottom right which minimizes the sum of all numbers along its path.\n",
        "\n",
        "Note: You can only move either down or right at any point in time."
      ]
    },
    {
      "cell_type": "markdown",
      "metadata": {
        "id": "xwvR4sJlqA0C",
        "colab_type": "text"
      },
      "source": [
        "###动态规划\n"
      ]
    },
    {
      "cell_type": "code",
      "metadata": {
        "id": "owgWLEmcpwbj",
        "colab_type": "code",
        "colab": {}
      },
      "source": [
        ""
      ],
      "execution_count": 0,
      "outputs": []
    },
    {
      "cell_type": "markdown",
      "metadata": {
        "id": "jaF15twA1OOw",
        "colab_type": "text"
      },
      "source": [
        "##120.Triangle\n",
        "Given a triangle, find the minimum path sum from top to bottom. Each step you may move to adjacent numbers on the row below.  \n",
        "$[\n",
        "     [2],\n",
        "    [3,4],\n",
        "   [6,5,7],\n",
        "  [4,1,8,3]\n",
        "]$"
      ]
    },
    {
      "cell_type": "markdown",
      "metadata": {
        "id": "UbWc_rdB2Klu",
        "colab_type": "text"
      },
      "source": [
        "###动态规划\n",
        "  \n",
        "$dp[i][j] = min(dp[i-1][j-1], dp[i-1][j]) + triangle[i][j]$"
      ]
    },
    {
      "cell_type": "code",
      "metadata": {
        "id": "M0ukiBsD1N4H",
        "colab_type": "code",
        "colab": {}
      },
      "source": [
        "class Solution:\n",
        "    def minimumTotal(self, triangle) -> int:\n",
        "        row = len(triangle)\n",
        "        dp = [[0] * row for i in range(row)]\n",
        "        #initial\n",
        "        dp[0][0] = triangle[0][0]\n",
        "        #boader\n",
        "        for i in range(1, row):\n",
        "            dp[i][0] = dp[i-1][0] + triangle[i][0]\n",
        "            dp[i][i] = dp[i-1][i-1] + triangle[i][-1]\n",
        "        #equotion\n",
        "        for i in range(2, row):\n",
        "            for j in range(1, i):\n",
        "                dp[i][j] = min(dp[i-1][j-1], dp[i-1][j]) + triangle[i][j]\n",
        "        return min(dp[-1])\n",
        "    "
      ],
      "execution_count": 0,
      "outputs": []
    },
    {
      "cell_type": "markdown",
      "metadata": {
        "id": "fSoXlVI17Ik_",
        "colab_type": "text"
      },
      "source": [
        "## @322.Coin Change\n",
        "You are given coins of different denominations and a total amount of money amount. Write a function to compute the fewest number of coins that you need to make up that amount. If that amount of money cannot be made up by any combination of the coins, return -1.\n"
      ]
    },
    {
      "cell_type": "markdown",
      "metadata": {
        "id": "fs8gmbKi7NF4",
        "colab_type": "text"
      },
      "source": [
        "###动态规划\n",
        "递归的弊端在于大量的重复计算，比如f(27-7)和f(27-5-2)重复计算，需要使用动态规划需要什么计算什么。\n",
        "这是典型的最值性动态规划题目  \n",
        "1.最后一步/子问题：最优策略拿出的最后一枚硬币价值位$a_k$，只需研究$a-a_k$的最优策略  \n",
        "2.转移方程：f(27)=min{f(27-2)+1, f(27-5)+1, f(27-7)+1}  \n",
        "3.初始条件和边界条件：f(0)=0，不能拼出时返回正无穷  \n",
        "4.计算顺序：从小到大\n",
        "\n"
      ]
    },
    {
      "cell_type": "code",
      "metadata": {
        "id": "jIJylA-txZqf",
        "colab_type": "code",
        "colab": {}
      },
      "source": [
        ""
      ],
      "execution_count": 0,
      "outputs": []
    },
    {
      "cell_type": "markdown",
      "metadata": {
        "id": "e8YtVK55hYnM",
        "colab_type": "text"
      },
      "source": [
        "##560.subarray sum equals k\n",
        "Given an array of integers and an integer k, you need to find the total number of continuous subarrays whose sum equals to k.\n"
      ]
    },
    {
      "cell_type": "markdown",
      "metadata": {
        "id": "BCePdNxSm130",
        "colab_type": "text"
      },
      "source": [
        "###暴力"
      ]
    },
    {
      "cell_type": "markdown",
      "metadata": {
        "id": "-NPz5k-foZvg",
        "colab_type": "text"
      },
      "source": [
        "最暴力的方法是两遍遍历0到n的各种和(cubic)，优化版暴力法是减少重复计算(square)，以后直接从优化版写起"
      ]
    },
    {
      "cell_type": "code",
      "metadata": {
        "id": "18drD1Fcm2T9",
        "colab_type": "code",
        "colab": {}
      },
      "source": [
        "class Solution:\n",
        "    def subarraySum(self, nums: List[int], k: int) -> int:\n",
        "        n = len(nums)\n",
        "        count = 0\n",
        "        for i in range(n):\n",
        "            sum = 0\n",
        "            for j in range(i, n):\n",
        "                sum += nums[j]\n",
        "                if sum == k:\n",
        "                    count += 1\n",
        "        return count\n"
      ],
      "execution_count": 0,
      "outputs": []
    },
    {
      "cell_type": "markdown",
      "metadata": {
        "id": "FwgIP0z2qTkQ",
        "colab_type": "text"
      },
      "source": [
        "###！前项和&哈希表\n",
        "考虑到连续子序列和，必然想到前项和相减  \n",
        "\n",
        "构建前项和后，问题转化为：当i < j时，看有多少对< i , j >,使得presum[ j ] - presum[ i ] = k，也就是说 presum[ j ] - k  = presum[ i ]\n",
        "\n",
        "注意：对于长度为n的序列，前项和长度为n+1，因为必须存在0这一项作为减数的情况（即初始化时，直接把0初始化进去）  \n",
        "\n",
        "look up count -> hash map  \n",
        "\n",
        "构建字典<presum，frequency>, 每当遍历到一个值，如果他的前序和等于在他之前的字典里的presum - k，即符合条件"
      ]
    },
    {
      "cell_type": "code",
      "metadata": {
        "id": "1HHZCME7qgtc",
        "colab_type": "code",
        "colab": {}
      },
      "source": [
        "class Solution:\n",
        "    def subarraySum(self, nums: List[int], k: int) -> int:\n",
        "        n = len(nums)\n",
        "        presum = 0\n",
        "        count = 0\n",
        "        map = {0: 1}   #！重要！map比nums多一位，即0位，如果之后的遍历中存在presum = k，就起码要加1（整个前序和不删减的情况）\n",
        "\n",
        "        for i in range(n):\n",
        "            presum += nums[i]\n",
        "\n",
        "            count += map.get(presum - k, 0) #注意，比较的时候比较的是presum - k(右面的前序和-k，看等于哪个左边的前序和)\n",
        "            map[presum] = map.get(presum, 0) + 1 #注意，存储的时候存储的是presum\n",
        "        return count\n"
      ],
      "execution_count": 0,
      "outputs": []
    },
    {
      "cell_type": "markdown",
      "metadata": {
        "id": "ghRFa1xUKNJ-",
        "colab_type": "text"
      },
      "source": [
        "#counting"
      ]
    },
    {
      "cell_type": "code",
      "metadata": {
        "id": "ZKSBT7jKCqlp",
        "colab_type": "code",
        "colab": {}
      },
      "source": [
        "class Solution:\n",
        "    def countElements(self, arr: List[int]) -> int:\n",
        "        dict = {}\n",
        "        count = 0\n",
        "        for num in arr:\n",
        "            dict[num + 1] = dict.get(num + 1, 0) + 1\n",
        "        for key, val in dict.items():\n",
        "            if key in arr:\n",
        "                count += val\n",
        "        return count"
      ],
      "execution_count": 0,
      "outputs": []
    }
  ]
}